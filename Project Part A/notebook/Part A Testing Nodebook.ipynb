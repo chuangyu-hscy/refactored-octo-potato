{
 "cells": [
  {
   "cell_type": "markdown",
   "id": "95e8adba-1d91-4dac-bca8-929f1c4d3c63",
   "metadata": {},
   "source": [
    "## Prerequest\n",
    "\n",
    "Run the following line to activate all required function"
   ]
  },
  {
   "cell_type": "code",
   "execution_count": 1,
   "id": "683eae01-d591-4ce7-81f8-df05634dc6bb",
   "metadata": {},
   "outputs": [],
   "source": [
    "%run \"Cachex AStar Shortest Path.ipynb\""
   ]
  },
  {
   "cell_type": "markdown",
   "id": "0bba49f8-4616-4d71-8776-5c3c50d524e8",
   "metadata": {
    "tags": []
   },
   "source": [
    "### Generate path finding result as a new txt file"
   ]
  },
  {
   "cell_type": "code",
   "execution_count": 2,
   "id": "c6fd526f-7e13-4b72-811b-294254611dc0",
   "metadata": {},
   "outputs": [],
   "source": [
    "CUSTOM_BOARD_DATA = {\n",
    "    'n': 5,\n",
    "    'board': [['b', 1, 0], ['b', 1, 1], ['b', 3, 2], ['b', 1, 3]],\n",
    "    'start': [4, 2],\n",
    "    'goal': [0, 0]\n",
    "}\n",
    "\n",
    "# define the board\n",
    "board = CachexBoard(CUSTOM_BOARD_DATA)\n",
    "\n",
    "# output path to txt file\n",
    "path = board.AStar(start=board.start, \n",
    "                  goal=board.goal,\n",
    "                  heuristic='manhatten', p=None)\n",
    "\n",
    "filename = 'sample_output.txt'\n",
    "SEP = '\\n'\n",
    "with open(filename, 'w') as f:\n",
    "    f.write(str(len(path)) + SEP)\n",
    "    for node in path:\n",
    "        f.write(str(node) + SEP)"
   ]
  },
  {
   "cell_type": "markdown",
   "id": "12ed5639-5d97-4c94-84dc-ae3eb476672c",
   "metadata": {
    "tags": []
   },
   "source": [
    "### Group Defined Test"
   ]
  },
  {
   "cell_type": "code",
   "execution_count": 3,
   "id": "6e564684-c087-4796-8846-066dd45742b6",
   "metadata": {
    "tags": []
   },
   "outputs": [
    {
     "name": "stdout",
     "output_type": "stream",
     "text": [
      "2022 COMP30024 Artificial Intelligence Cachex Game\n",
      "                       Group 4399 S Huang, W, Zhao\n",
      "--------------------------------------------------\n",
      "Symbol Representation:\n",
      "- Δ: AStar Search Start Point\n",
      "- $: AStar Search End/Goal Point\n",
      "- #: Barriers, node cannot place at here\n",
      "- [1-8]: AStar Path Result\n",
      "--------------------------------------------------\n",
      "Board Information: Start: (4, 2) >>> End: (0, 0)\n",
      "- A* Path Length: 8\n",
      "--------------------------------------------------\n",
      "A* Search Path:\n",
      "Start -> \n",
      "(4, 1) -> \n",
      "(3, 1) -> \n",
      "(2, 1) -> \n",
      "(1, 2) -> \n",
      "(0, 2) -> \n",
      "(0, 1) -> \n",
      "(0, 0) -> \n",
      "Goal\n",
      "--------------------------------------------------\n",
      "             .-'-._.-'-._.-'-._.-'-._.-'-.\n",
      "            |     |  2  |  Δ  |     |     |\n",
      "          .-'-._.-'-._.-'-._.-'-._.-'-._.-'\n",
      "         |     |  3  |  #  |     |     |\n",
      "       .-'-._.-'-._.-'-._.-'-._.-'-._.-'\n",
      "      |     |  4  |     |     |     |\n",
      "    .-'-._.-'-._.-'-._.-'-._.-'-._.-'\n",
      "   |  #  |  #  |  5  |  #  |     |\n",
      " .-'-._.-'-._.-'-._.-'-._.-'-._.-'\n",
      "|  $  |  7  |  6  |     |     |\n",
      "'-._.-'-._.-'-._.-'-._.-'-._.-'\n",
      "\n"
     ]
    }
   ],
   "source": [
    "CUSTOM_BOARD_DATA = {\n",
    "    'n': 5,\n",
    "    'board': [['b', 1, 0], ['b', 1, 1], ['b', 3, 2], ['b', 1, 3]],\n",
    "    'start': [4, 2],\n",
    "    'goal': [0, 0]\n",
    "}\n",
    "\n",
    "# initialise board\n",
    "board = CachexBoard(CUSTOM_BOARD_DATA)\n",
    "\n",
    "# create path_dict\n",
    "path = board.AStar(start=board.start, \n",
    "                  goal=board.goal,\n",
    "                  heuristic='euclidean', p=None)\n",
    "\n",
    "board.display(path=path)"
   ]
  },
  {
   "cell_type": "code",
   "execution_count": 4,
   "id": "9bb8136e-7db0-4012-a908-bd315481379a",
   "metadata": {},
   "outputs": [
    {
     "name": "stdout",
     "output_type": "stream",
     "text": [
      "2022 COMP30024 Artificial Intelligence Cachex Game\n",
      "                       Group 4399 S Huang, W, Zhao\n",
      "--------------------------------------------------\n",
      "Symbol Representation:\n",
      "- Δ: AStar Search Start Point\n",
      "- $: AStar Search End/Goal Point\n",
      "- #: Barriers, node cannot place at here\n",
      "- [1-4]: AStar Path Result\n",
      "--------------------------------------------------\n",
      "Board Information: Start: (4, 2) >>> End: (1, 4)\n",
      "- A* Path Length: 4\n",
      "--------------------------------------------------\n",
      "A* Search Path:\n",
      "Start -> \n",
      "(3, 3) -> \n",
      "(2, 4) -> \n",
      "(1, 4) -> \n",
      "Goal\n",
      "--------------------------------------------------\n",
      "             .-'-._.-'-._.-'-._.-'-._.-'-.\n",
      "            |     |     |  Δ  |     |     |\n",
      "          .-'-._.-'-._.-'-._.-'-._.-'-._.-'\n",
      "         |     |     |  #  |  2  |     |\n",
      "       .-'-._.-'-._.-'-._.-'-._.-'-._.-'\n",
      "      |     |     |     |     |  3  |\n",
      "    .-'-._.-'-._.-'-._.-'-._.-'-._.-'\n",
      "   |  #  |  #  |     |  #  |  $  |\n",
      " .-'-._.-'-._.-'-._.-'-._.-'-._.-'\n",
      "|     |     |     |     |     |\n",
      "'-._.-'-._.-'-._.-'-._.-'-._.-'\n",
      "\n"
     ]
    }
   ],
   "source": [
    "CUSTOM_BOARD_DATA = {\n",
    "    'n': 5,\n",
    "    'board': [['b', 1, 0], ['b', 1, 1], ['b', 3, 2], ['b', 1, 3]],\n",
    "    'start': [4, 2],\n",
    "    'goal': [1, 4]\n",
    "}\n",
    "\n",
    "# initialise board\n",
    "board = CachexBoard(CUSTOM_BOARD_DATA)\n",
    "\n",
    "# create path_dict\n",
    "path = board.AStar(start=board.start, \n",
    "                  goal=board.goal,\n",
    "                  heuristic='manhatten', p=None)\n",
    "\n",
    "board.display(path=path)"
   ]
  },
  {
   "cell_type": "code",
   "execution_count": 5,
   "id": "a0ff4d4e-01e8-4542-a592-e3d67bed9628",
   "metadata": {},
   "outputs": [
    {
     "name": "stdout",
     "output_type": "stream",
     "text": [
      "2022 COMP30024 Artificial Intelligence Cachex Game\n",
      "                       Group 4399 S Huang, W, Zhao\n",
      "--------------------------------------------------\n",
      "Symbol Representation:\n",
      "- Δ: AStar Search Start Point\n",
      "- $: AStar Search End/Goal Point\n",
      "- #: Barriers, node cannot place at here\n",
      "- [1-6]: AStar Path Result\n",
      "--------------------------------------------------\n",
      "Board Information: Start: (4, 0) >>> End: (0, 4)\n",
      "- A* Path Length: 6\n",
      "--------------------------------------------------\n",
      "A* Search Path:\n",
      "Start -> \n",
      "(3, 1) -> \n",
      "(2, 2) -> \n",
      "(1, 2) -> \n",
      "(0, 3) -> \n",
      "(0, 4) -> \n",
      "Goal\n",
      "--------------------------------------------------\n",
      "             .-'-._.-'-._.-'-._.-'-._.-'-.\n",
      "            |  Δ  |     |     |     |     |\n",
      "          .-'-._.-'-._.-'-._.-'-._.-'-._.-'\n",
      "         |     |  2  |  #  |     |     |\n",
      "       .-'-._.-'-._.-'-._.-'-._.-'-._.-'\n",
      "      |     |     |  3  |     |     |\n",
      "    .-'-._.-'-._.-'-._.-'-._.-'-._.-'\n",
      "   |  #  |  #  |  4  |  #  |     |\n",
      " .-'-._.-'-._.-'-._.-'-._.-'-._.-'\n",
      "|     |     |     |  5  |  $  |\n",
      "'-._.-'-._.-'-._.-'-._.-'-._.-'\n",
      "\n"
     ]
    }
   ],
   "source": [
    "CUSTOM_BOARD_DATA = {\n",
    "    'n': 5,\n",
    "    'board': [['b', 1, 0], ['b', 1, 1], ['b', 3, 2], ['b', 1, 3]],\n",
    "    'start': [4, 0],\n",
    "    'goal': [0, 4]\n",
    "}\n",
    "\n",
    "# initialise board\n",
    "board = CachexBoard(CUSTOM_BOARD_DATA)\n",
    "\n",
    "# create path_dict\n",
    "path = board.AStar(start=board.start, \n",
    "                  goal=board.goal,\n",
    "                  heuristic='manhatten', p=None)\n",
    "\n",
    "board.display(path=path)"
   ]
  },
  {
   "cell_type": "code",
   "execution_count": 6,
   "id": "f328d55a-e17b-4c32-9c96-a8108baac7a8",
   "metadata": {},
   "outputs": [
    {
     "name": "stdout",
     "output_type": "stream",
     "text": [
      "2022 COMP30024 Artificial Intelligence Cachex Game\n",
      "                       Group 4399 S Huang, W, Zhao\n",
      "--------------------------------------------------\n",
      "Symbol Representation:\n",
      "- Δ: AStar Search Start Point\n",
      "- $: AStar Search End/Goal Point\n",
      "- #: Barriers, node cannot place at here\n",
      "- [1-8]: AStar Path Result\n",
      "--------------------------------------------------\n",
      "Board Information: Start: (0, 0) >>> End: (0, 4)\n",
      "- A* Path Length: 8\n",
      "--------------------------------------------------\n",
      "A* Search Path:\n",
      "Start -> \n",
      "(0, 1) -> \n",
      "(0, 2) -> \n",
      "(1, 2) -> \n",
      "(2, 2) -> \n",
      "(2, 3) -> \n",
      "(1, 4) -> \n",
      "(0, 4) -> \n",
      "Goal\n",
      "--------------------------------------------------\n",
      "             .-'-._.-'-._.-'-._.-'-._.-'-.\n",
      "            |     |     |     |     |     |\n",
      "          .-'-._.-'-._.-'-._.-'-._.-'-._.-'\n",
      "         |     |     |  #  |     |     |\n",
      "       .-'-._.-'-._.-'-._.-'-._.-'-._.-'\n",
      "      |     |     |  5  |  6  |     |\n",
      "    .-'-._.-'-._.-'-._.-'-._.-'-._.-'\n",
      "   |  #  |  #  |  4  |  #  |  7  |\n",
      " .-'-._.-'-._.-'-._.-'-._.-'-._.-'\n",
      "|  Δ  |  2  |  3  |  #  |  $  |\n",
      "'-._.-'-._.-'-._.-'-._.-'-._.-'\n",
      "\n"
     ]
    }
   ],
   "source": [
    "CUSTOM_BOARD_DATA = {\n",
    "    'n': 5,\n",
    "    'board': [['b', 1, 0], ['b', 1, 1], ['b', 3, 2], ['b', 1, 3], ['b', 0, 3]],\n",
    "    'start': [0, 0],\n",
    "    'goal': [0, 4]\n",
    "}\n",
    "\n",
    "# initialise board\n",
    "board = CachexBoard(CUSTOM_BOARD_DATA)\n",
    "\n",
    "# create path_dict\n",
    "path = board.AStar(start=board.start, \n",
    "                  goal=board.goal,\n",
    "                  heuristic='manhatten', p=None)\n",
    "\n",
    "board.display(path=path)"
   ]
  },
  {
   "cell_type": "code",
   "execution_count": 7,
   "id": "226d0fff-5803-4aad-951b-376588b51c25",
   "metadata": {},
   "outputs": [
    {
     "name": "stdout",
     "output_type": "stream",
     "text": [
      "2022 COMP30024 Artificial Intelligence Cachex Game\n",
      "                       Group 4399 S Huang, W, Zhao\n",
      "--------------------------------------------------\n",
      "Symbol Representation:\n",
      "- Δ: AStar Search Start Point\n",
      "- $: AStar Search End/Goal Point\n",
      "- #: Barriers, node cannot place at here\n",
      "- [1-10]: AStar Path Result\n",
      "--------------------------------------------------\n",
      "Board Information: Start: (4, 4) >>> End: (0, 0)\n",
      "- A* Path Length: 10\n",
      "--------------------------------------------------\n",
      "A* Search Path:\n",
      "Start -> \n",
      "(4, 3) -> \n",
      "(4, 2) -> \n",
      "(4, 1) -> \n",
      "(3, 1) -> \n",
      "(2, 1) -> \n",
      "(1, 2) -> \n",
      "(0, 2) -> \n",
      "(0, 1) -> \n",
      "(0, 0) -> \n",
      "Goal\n",
      "--------------------------------------------------\n",
      "             .-'-._.-'-._.-'-._.-'-._.-'-.\n",
      "            |     |  4  |  3  |  2  |  Δ  |\n",
      "          .-'-._.-'-._.-'-._.-'-._.-'-._.-'\n",
      "         |     |  5  |  #  |     |     |\n",
      "       .-'-._.-'-._.-'-._.-'-._.-'-._.-'\n",
      "      |     |  6  |     |  #  |     |\n",
      "    .-'-._.-'-._.-'-._.-'-._.-'-._.-'\n",
      "   |  #  |  #  |  7  |  #  |     |\n",
      " .-'-._.-'-._.-'-._.-'-._.-'-._.-'\n",
      "|  $  |  9  |  8  |  #  |     |\n",
      "'-._.-'-._.-'-._.-'-._.-'-._.-'\n",
      "\n"
     ]
    }
   ],
   "source": [
    "CUSTOM_BOARD_DATA = {\n",
    "    'n': 5,\n",
    "    'board': [['b', 1, 0], ['b', 1, 1], ['b', 3, 2], ['b', 1, 3], ['b', 0, 3], ['b', 2, 3]],\n",
    "    'start': [4, 4],\n",
    "    'goal': [0, 0]\n",
    "}\n",
    "\n",
    "# initialise board\n",
    "board = CachexBoard(CUSTOM_BOARD_DATA)\n",
    "\n",
    "# create path_dict\n",
    "path = board.AStar(start=board.start, \n",
    "                  goal=board.goal,\n",
    "                  heuristic='manhatten', p=None)\n",
    "\n",
    "board.display(path=path)"
   ]
  },
  {
   "cell_type": "code",
   "execution_count": 8,
   "id": "0850a8e0-603c-460b-af32-12916bf8bfba",
   "metadata": {},
   "outputs": [
    {
     "name": "stdout",
     "output_type": "stream",
     "text": [
      "2022 COMP30024 Artificial Intelligence Cachex Game\n",
      "                       Group 4399 S Huang, W, Zhao\n",
      "             .-'-._.-'-._.-'-._.-'-._.-'-.\n",
      "            |  Δ  |     |     |     |     |\n",
      "          .-'-._.-'-._.-'-._.-'-._.-'-._.-'\n",
      "         |     |     |  #  |     |     |\n",
      "       .-'-._.-'-._.-'-._.-'-._.-'-._.-'\n",
      "      |     |     |     |     |     |\n",
      "    .-'-._.-'-._.-'-._.-'-._.-'-._.-'\n",
      "   |  #  |  #  |  #  |  #  |     |\n",
      " .-'-._.-'-._.-'-._.-'-._.-'-._.-'\n",
      "|  $  |     |     |  #  |     |\n",
      "'-._.-'-._.-'-._.-'-._.-'-._.-'\n",
      "\n"
     ]
    }
   ],
   "source": [
    "CUSTOM_BOARD_DATA = {\n",
    "    'n': 5,\n",
    "    'board': [['b', 1, 0], ['b', 1, 1], ['b', 3, 2], ['b', 1, 3], ['b', 0, 3], ['b', 1, 2]],\n",
    "    'start': [4, 0],\n",
    "    'goal': [0, 0]\n",
    "}\n",
    "\n",
    "# initialise board\n",
    "board = CachexBoard(CUSTOM_BOARD_DATA)\n",
    "\n",
    "\n",
    "# create path_dict\n",
    "path = board.AStar(start=board.start, \n",
    "                  goal=board.goal,\n",
    "                  heuristic='manhatten', p=None)\n",
    "\n",
    "board.display(path=path)\n",
    "\n",
    "# error caused by invalid path finding, path is blocked "
   ]
  },
  {
   "cell_type": "code",
   "execution_count": 9,
   "id": "df2fa9be-d4da-4116-8ed8-08bc033e7180",
   "metadata": {},
   "outputs": [
    {
     "name": "stdout",
     "output_type": "stream",
     "text": [
      "2022 COMP30024 Artificial Intelligence Cachex Game\n",
      "                       Group 4399 S Huang, W, Zhao\n",
      "--------------------------------------------------\n",
      "Symbol Representation:\n",
      "- Δ: AStar Search Start Point\n",
      "- $: AStar Search End/Goal Point\n",
      "- #: Barriers, node cannot place at here\n",
      "- [1-10]: AStar Path Result\n",
      "--------------------------------------------------\n",
      "Board Information: Start: (4, 0) >>> End: (0, 0)\n",
      "- A* Path Length: 10\n",
      "--------------------------------------------------\n",
      "A* Search Path:\n",
      "Start -> \n",
      "(3, 1) -> \n",
      "(2, 2) -> \n",
      "(2, 3) -> \n",
      "(1, 4) -> \n",
      "(0, 4) -> \n",
      "(0, 3) -> \n",
      "(0, 2) -> \n",
      "(0, 1) -> \n",
      "(0, 0) -> \n",
      "Goal\n",
      "--------------------------------------------------\n",
      "             .-'-._.-'-._.-'-._.-'-._.-'-.\n",
      "            |  Δ  |     |     |     |     |\n",
      "          .-'-._.-'-._.-'-._.-'-._.-'-._.-'\n",
      "         |     |  2  |  #  |     |     |\n",
      "       .-'-._.-'-._.-'-._.-'-._.-'-._.-'\n",
      "      |     |     |  3  |  4  |     |\n",
      "    .-'-._.-'-._.-'-._.-'-._.-'-._.-'\n",
      "   |  #  |  #  |  #  |  #  |  5  |\n",
      " .-'-._.-'-._.-'-._.-'-._.-'-._.-'\n",
      "|  $  |  9  |  8  |  7  |  6  |\n",
      "'-._.-'-._.-'-._.-'-._.-'-._.-'\n",
      "\n"
     ]
    }
   ],
   "source": [
    "CUSTOM_BOARD_DATA = {\n",
    "    'n': 5,\n",
    "    'board': [['b', 1, 0], ['b', 1, 1], ['b', 3, 2], ['b', 1, 3], ['b', 1, 2]],\n",
    "    'start': [4, 0],\n",
    "    'goal': [0, 0]\n",
    "}\n",
    "\n",
    "# initialise board\n",
    "board = CachexBoard(CUSTOM_BOARD_DATA)\n",
    "\n",
    "# create path_dict\n",
    "path = board.AStar(start=board.start, \n",
    "                  goal=board.goal,\n",
    "                  heuristic='manhatten', p=None)\n",
    "\n",
    "board.display(path=path)"
   ]
  },
  {
   "cell_type": "code",
   "execution_count": 14,
   "id": "4b068603-b8d1-44d1-9184-ed91ba1f5b05",
   "metadata": {},
   "outputs": [
    {
     "name": "stdout",
     "output_type": "stream",
     "text": [
      "2022 COMP30024 Artificial Intelligence Cachex Game\n",
      "                       Group 4399 S Huang, W, Zhao\n",
      "--------------------------------------------------\n",
      "Symbol Representation:\n",
      "- Δ: AStar Search Start Point\n",
      "- $: AStar Search End/Goal Point\n",
      "- #: Barriers, node cannot place at here\n",
      "- [1-13]: AStar Path Result\n",
      "--------------------------------------------------\n",
      "Board Information: Start: (4, 2) >>> End: (0, 0)\n",
      "- A* Path Length: 13\n",
      "--------------------------------------------------\n",
      "A* Search Path:\n",
      "Start -> \n",
      "(4, 1) -> \n",
      "(4, 0) -> \n",
      "(3, 0) -> \n",
      "(2, 1) -> \n",
      "(2, 2) -> \n",
      "(2, 3) -> \n",
      "(1, 4) -> \n",
      "(0, 4) -> \n",
      "(0, 3) -> \n",
      "(0, 2) -> \n",
      "(0, 1) -> \n",
      "(0, 0) -> \n",
      "Goal\n",
      "--------------------------------------------------\n",
      "             .-'-._.-'-._.-'-._.-'-._.-'-.\n",
      "            |  3  |  2  |  Δ  |     |     |\n",
      "          .-'-._.-'-._.-'-._.-'-._.-'-._.-'\n",
      "         |  4  |  #  |  #  |  #  |  #  |\n",
      "       .-'-._.-'-._.-'-._.-'-._.-'-._.-'\n",
      "      |     |  5  |  6  |  7  |     |\n",
      "    .-'-._.-'-._.-'-._.-'-._.-'-._.-'\n",
      "   |  #  |  #  |  #  |  #  |  8  |\n",
      " .-'-._.-'-._.-'-._.-'-._.-'-._.-'\n",
      "|  $  |  12 |  11 |  10 |  9  |\n",
      "'-._.-'-._.-'-._.-'-._.-'-._.-'\n",
      "\n"
     ]
    }
   ],
   "source": [
    "CUSTOM_BOARD_DATA = {\n",
    "    'n': 5,\n",
    "    'board': [['b', 3, 1], ['b', 3, 2], ['b', 3, 3], ['b', 3, 4], \n",
    "              ['b', 1, 0], ['b', 1, 1], ['b', 1, 2], ['b', 1, 3]],\n",
    "    'start': [4, 2],\n",
    "    'goal': [0, 0]\n",
    "}\n",
    "\n",
    "# initialise board\n",
    "board = CachexBoard(CUSTOM_BOARD_DATA)\n",
    "\n",
    "# create path_dict\n",
    "path = board.AStar(start=board.start, \n",
    "                  goal=board.goal,\n",
    "                  heuristic='manhatten', p=None)\n",
    "\n",
    "board.display(path=path)"
   ]
  },
  {
   "cell_type": "markdown",
   "id": "b3e17621-282a-4999-9b08-ab6464b39494",
   "metadata": {},
   "source": [
    "## Random Board Generation Testing"
   ]
  },
  {
   "cell_type": "code",
   "execution_count": null,
   "id": "323794b8-9acf-4daf-87fb-b68ab53aa4bb",
   "metadata": {},
   "outputs": [],
   "source": [
    "import random\n",
    "import time\n",
    "# generating 10000 times\n",
    "\n",
    "m_expand_time, e_expand_time = list(), list()\n",
    "generate_time = 10000\n",
    "\n",
    "for i in range(generate_time):\n",
    "    # define the number of random board dimension\n",
    "    dimension = random.randint(2, 10)\n",
    "    barriers = []\n",
    "    \n",
    "    while len(barriers) != random.randint(0, random.randint(0, int(dimension*dimension/2))):\n",
    "        barrier = (random.randint(0, dimension), random.randint(0, dimension))\n",
    "        if barrier not in barriers and barrier[0] < dimension and barrier[1] < dimension:\n",
    "            barriers.append(barrier)\n",
    "    \n",
    "    start = (random.randint(0, dimension), random.randint(0, dimension)) \n",
    "    end = (random.randint(0, dimension), random.randint(0, dimension))\n",
    "    while start[1] == end[1] or start[1] == dimension or end[1] == dimension or start[0] == dimension or end[0] == dimension or start in barriers or end in barriers:\n",
    "        start = (random.randint(0, dimension), random.randint(0, dimension)) \n",
    "        end = (random.randint(0, dimension), random.randint(0, dimension))\n",
    "    \n",
    "    custom_board_data = {\n",
    "        'n': dimension,\n",
    "        'board': [['b', b[0], b[1]] for b in barriers],\n",
    "        'start': start,\n",
    "        'goal': end\n",
    "    }\n",
    "    \n",
    "    # initialise board\n",
    "    board = CachexBoard(custom_board_data)\n",
    "\n",
    "    # create path_dict\n",
    "    path = board.AStar(start=board.start, \n",
    "                      goal=board.goal,\n",
    "                      heuristic='manhatten', p=None)\n",
    "\n",
    "    board.display(path=path)\n",
    "    \n",
    "    break\n",
    "    \n"
   ]
  },
  {
   "cell_type": "code",
   "execution_count": 28,
   "id": "5192554a-d71b-4e1d-bcab-954db6664027",
   "metadata": {},
   "outputs": [
    {
     "data": {
      "text/plain": [
       "12"
      ]
     },
     "execution_count": 28,
     "metadata": {},
     "output_type": "execute_result"
    }
   ],
   "source": [
    "int(5 * 5 / 2)"
   ]
  },
  {
   "cell_type": "code",
   "execution_count": null,
   "id": "c5030aa2-8151-4cf5-8f64-0a9cbd9c923f",
   "metadata": {},
   "outputs": [],
   "source": []
  }
 ],
 "metadata": {
  "kernelspec": {
   "display_name": "python3.6",
   "language": "python",
   "name": "python3.6"
  },
  "language_info": {
   "codemirror_mode": {
    "name": "ipython",
    "version": 3
   },
   "file_extension": ".py",
   "mimetype": "text/x-python",
   "name": "python",
   "nbconvert_exporter": "python",
   "pygments_lexer": "ipython3",
   "version": "3.6.13"
  }
 },
 "nbformat": 4,
 "nbformat_minor": 5
}
