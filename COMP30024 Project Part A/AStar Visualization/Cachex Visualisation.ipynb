{
 "cells": [
  {
   "cell_type": "markdown",
   "id": "04efc28c-613a-404c-bec2-f3d2bf943608",
   "metadata": {},
   "source": [
    "# COMP30024 Artificial Intelligence Part A \n",
    "# A* Shortest Path Visualisation"
   ]
  },
  {
   "cell_type": "code",
   "execution_count": 342,
   "id": "8288f096-ed9e-4287-90d3-ef8979451a96",
   "metadata": {},
   "outputs": [],
   "source": [
    "# import required APIs\n",
    "import pygame\n",
    "from math import sin, cos, pi\n",
    "import time\n",
    "\n",
    "# define global variables\n",
    "WIDTH, HEIGHT = 750, 750 # board dimensions\n",
    "BOARD_XY = 5\n",
    "\n",
    "WHITE = pygame.Color(255, 255, 255)\n",
    "\n",
    "FPS = 60\n",
    "\n",
    "BARRIERS = [(1, 0), (1, 1), (1, 3), (3, 2)]\n",
    "\n",
    "START = (4, 2)\n",
    "END = (0, 0)\n",
    "sample_path = [(4, 2), (4, 1), (3, 1), (2, 1), (1, 2), (0, 2), (0, 1), (0, 0)]"
   ]
  },
  {
   "cell_type": "code",
   "execution_count": 336,
   "id": "cb7b11c2-7171-4950-b016-93949d7d6a31",
   "metadata": {},
   "outputs": [],
   "source": [
    "# construct the board with no coordinates\n",
    "def construct_board(BOARD_XY=5):\n",
    "    board = dict()\n",
    "    multiplier = BOARD_XY // 2\n",
    "    \n",
    "    curr_top_pos = ((WIDTH/2-27.5*multiplier, HEIGHT/2-50*multiplier)) \n",
    "\n",
    "    for x in range(BOARD_XY)[::-1]:\n",
    "        for y in range(BOARD_XY):\n",
    "            if y == 0:\n",
    "                board[(x, y)] = curr_top_pos\n",
    "            else:\n",
    "                board[(x, y)] = (curr_top_pos[0]+55*y, curr_top_pos[1])\n",
    "        curr_top_pos = (curr_top_pos[0]-27.5, curr_top_pos[1]+50)     \n",
    " \n",
    "    return board"
   ]
  },
  {
   "cell_type": "code",
   "execution_count": 325,
   "id": "33c30d83-c69d-41f9-9ec8-9a1ba495516b",
   "metadata": {},
   "outputs": [],
   "source": [
    "# check board\n",
    "def display_coords(BOARD):\n",
    "    # print board coordinates and its target pygame hexagon position value\n",
    "    for x in range(BOARD_XY)[::-1]:\n",
    "        for y in range(BOARD_XY):\n",
    "            print(f\"[{(x, y)}: {BOARD[(x, y)]}]\", end=' ')\n",
    "        print('\\n')\n",
    "    return "
   ]
  },
  {
   "cell_type": "code",
   "execution_count": 326,
   "id": "7de3c726-a185-4ebb-9c7b-dcd91d8160e6",
   "metadata": {},
   "outputs": [],
   "source": [
    "BOARD = construct_board()"
   ]
  },
  {
   "cell_type": "code",
   "execution_count": 327,
   "id": "81a098c4-49ad-4fa8-a921-b25658baf7a3",
   "metadata": {},
   "outputs": [
    {
     "name": "stdout",
     "output_type": "stream",
     "text": [
      "[(4, 0): (320.0, 275.0)] [(4, 1): (375.0, 275.0)] [(4, 2): (430.0, 275.0)] [(4, 3): (485.0, 275.0)] [(4, 4): (540.0, 275.0)] \n",
      "\n",
      "[(3, 0): (292.5, 325.0)] [(3, 1): (347.5, 325.0)] [(3, 2): (402.5, 325.0)] [(3, 3): (457.5, 325.0)] [(3, 4): (512.5, 325.0)] \n",
      "\n",
      "[(2, 0): (265.0, 375.0)] [(2, 1): (320.0, 375.0)] [(2, 2): (375.0, 375.0)] [(2, 3): (430.0, 375.0)] [(2, 4): (485.0, 375.0)] \n",
      "\n",
      "[(1, 0): (237.5, 425.0)] [(1, 1): (292.5, 425.0)] [(1, 2): (347.5, 425.0)] [(1, 3): (402.5, 425.0)] [(1, 4): (457.5, 425.0)] \n",
      "\n",
      "[(0, 0): (210.0, 475.0)] [(0, 1): (265.0, 475.0)] [(0, 2): (320.0, 475.0)] [(0, 3): (375.0, 475.0)] [(0, 4): (430.0, 475.0)] \n",
      "\n"
     ]
    }
   ],
   "source": [
    "display_coords(BOARD)"
   ]
  },
  {
   "cell_type": "code",
   "execution_count": 328,
   "id": "615ee7b6-4bf5-4358-b442-00fbae735cf7",
   "metadata": {},
   "outputs": [],
   "source": [
    "def draw_window(board):\n",
    "    board.fill(WHITE)\n",
    "    pygame.display.update()"
   ]
  },
  {
   "cell_type": "code",
   "execution_count": 329,
   "id": "6edd8200-51e3-473d-81c4-44e7076bad19",
   "metadata": {},
   "outputs": [],
   "source": [
    "def draw_regular_polygon(board, color, radius, position, vertex_count=6, width=0):\n",
    "    n, r = vertex_count, radius\n",
    "    x, y = position\n",
    "    pygame.draw.polygon(board, color, [(x + r * sin(2 * pi * i / n),\n",
    "                                          y + r * cos(2 * pi * i / n))\n",
    "                                         for i in range(n)], \n",
    "                        width)\n",
    "    return "
   ]
  },
  {
   "cell_type": "code",
   "execution_count": 330,
   "id": "3f817175-d7a5-46d1-86a6-454f05248456",
   "metadata": {},
   "outputs": [],
   "source": [
    "def draw_board(board, dimension=5):\n",
    "    for x in range(dimension):\n",
    "        for y in range(dimension):\n",
    "            draw_regular_polygon(board=board, \n",
    "                         color=(0, 0, 0), \n",
    "                         radius=min(200,200)/6, \n",
    "                         position=BOARD[(x, y)], \n",
    "                         vertex_count=6, \n",
    "                         width=1)\n",
    "    "
   ]
  },
  {
   "cell_type": "code",
   "execution_count": 349,
   "id": "81f98353-ed19-4299-8e21-89695dbba54a",
   "metadata": {},
   "outputs": [],
   "source": [
    "def draw_barriers(board):\n",
    "    for barrier in BARRIERS:\n",
    "        draw_regular_polygon(board=board, \n",
    "                         color=(66, 135, 245), \n",
    "                         radius=min(180,200)/6, \n",
    "                         position=BOARD[barrier], \n",
    "                         vertex_count=6, \n",
    "                         width=0)"
   ]
  },
  {
   "cell_type": "code",
   "execution_count": 446,
   "id": "f4bf2634-0113-4d98-ac68-40c46c55b37f",
   "metadata": {},
   "outputs": [],
   "source": [
    "def draw_path(board, paths=sample_path):\n",
    "    step = 1\n",
    "    pygame.font.init()\n",
    "    font = pygame.font.SysFont('Arial', 20)\n",
    "   \n",
    "    for node in paths:\n",
    "        draw_regular_polygon(board=board,\n",
    "                             color=(159, 160, 161),\n",
    "                             radius=min(160,200)/6, \n",
    "                             position=BOARD[node], \n",
    "                             vertex_count=6, \n",
    "                             width=0)\n",
    "        if node == paths[0]:\n",
    "            board.blit(font.render('O', True, (255, 111, 0)), (BOARD[node][0]-5, BOARD[node][1]-10))\n",
    "            pygame.display.update()\n",
    "        elif node == paths[-1]:\n",
    "            board.blit(font.render('X', True, (255, 179, 0)), (BOARD[node][0]-5, BOARD[node][1]-10))\n",
    "            pygame.display.update()\n",
    "        else:\n",
    "            board.blit(font.render(f'{step}', True, (255, 255, 255)), (BOARD[node][0]-5, BOARD[node][1]-10))\n",
    "            pygame.display.update()\n",
    "            step += 1\n",
    "        "
   ]
  },
  {
   "cell_type": "code",
   "execution_count": 447,
   "id": "b55b38cf-8085-468f-9806-3d2173fce5e4",
   "metadata": {},
   "outputs": [],
   "source": [
    "def main():\n",
    "    # define the main game board\n",
    "    board = pygame.display.set_mode((WIDTH, HEIGHT))\n",
    "    draw_window(board)\n",
    "    \n",
    "    # set board header\n",
    "    pygame.display.set_caption('Cachex Board')\n",
    "    \n",
    "    # define a clock object\n",
    "    clock = pygame.time.Clock()\n",
    "    \n",
    "    draw_board(board)\n",
    " \n",
    "    run = True\n",
    "    while run:\n",
    "        clock.tick(FPS) # board will refresh 60 times per second\n",
    "        for event in pygame.event.get():\n",
    "            if event.type == pygame.QUIT:\n",
    "                run = False\n",
    "        \n",
    "        draw_barriers(board=board)\n",
    "        draw_path(board=board)\n",
    "        \n",
    "        pygame.display.flip()\n",
    "    pygame.quit()"
   ]
  },
  {
   "cell_type": "code",
   "execution_count": 448,
   "id": "eea4195c-c66f-4314-9e02-16f0a34590e5",
   "metadata": {},
   "outputs": [],
   "source": [
    "main()"
   ]
  },
  {
   "cell_type": "code",
   "execution_count": null,
   "id": "3c605138-c736-4c10-a27a-dea6bb4f3d8f",
   "metadata": {},
   "outputs": [],
   "source": []
  }
 ],
 "metadata": {
  "kernelspec": {
   "display_name": "python3.6",
   "language": "python",
   "name": "python3.6"
  },
  "language_info": {
   "codemirror_mode": {
    "name": "ipython",
    "version": 3
   },
   "file_extension": ".py",
   "mimetype": "text/x-python",
   "name": "python",
   "nbconvert_exporter": "python",
   "pygments_lexer": "ipython3",
   "version": "3.6.13"
  }
 },
 "nbformat": 4,
 "nbformat_minor": 5
}
