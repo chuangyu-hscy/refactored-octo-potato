{
 "cells": [
  {
   "cell_type": "code",
   "execution_count": 2,
   "id": "5a395e9a-0e92-41dd-bac3-b3c1266a9598",
   "metadata": {},
   "outputs": [],
   "source": [
    "# import required libraries\n",
    "import pygame\n",
    "import math\n",
    "\n",
    "from queue import PriorityQueue"
   ]
  },
  {
   "cell_type": "code",
   "execution_count": 3,
   "id": "1c8f7c9a-cd85-4c72-bafc-6ad3298e7c47",
   "metadata": {},
   "outputs": [],
   "source": [
    "WIDTH = 800\n",
    "WIN = pygame.display.set_mode((WIDTH, WIDTH))\n",
    "pygame.display.set_caption('A* Path Finding Algorithm')"
   ]
  },
  {
   "cell_type": "code",
   "execution_count": 4,
   "id": "958a8809-54bd-4dfe-9657-31304529eff5",
   "metadata": {},
   "outputs": [],
   "source": [
    "RED = (255, 0, 0)\n",
    "GREEN = (0, 255, 0)\n",
    "BLUE = (0, 255, 0)\n",
    "YELLOW = (255, 255, 0)\n",
    "WHITE = (255, 255, 255)\n",
    "BLACK = (0, 0, 0)\n",
    "PURPLE = (128, 0, 128)\n",
    "ORANGE = (255, 165 ,0)\n",
    "GREY = (128, 128, 128)\n",
    "TURQUOISE = (64, 224, 208)"
   ]
  },
  {
   "cell_type": "code",
   "execution_count": null,
   "id": "9e4d6d88-875f-4b83-8b3b-7d9b0ae5b63d",
   "metadata": {},
   "outputs": [],
   "source": [
    "class Spot:\n",
    "    def __init__(self, row, col, width, total_rows):\n",
    "        self.row = row\n",
    "        self.col = col\n",
    "        self.x = row * width\n",
    "        self.y = col * width\n",
    "        self.color = WHITE\n",
    "        self.neighbors = []\n",
    "        self.width = width\n",
    "        self.total_rows = total_rows\n",
    "    def get_pos(self):\n",
    "        return self.row, self.col\n",
    "\n",
    "    def is_closed(self):\n",
    "        return self.color == RED"
   ]
  }
 ],
 "metadata": {
  "kernelspec": {
   "display_name": "python3.6",
   "language": "python",
   "name": "python3.6"
  },
  "language_info": {
   "codemirror_mode": {
    "name": "ipython",
    "version": 3
   },
   "file_extension": ".py",
   "mimetype": "text/x-python",
   "name": "python",
   "nbconvert_exporter": "python",
   "pygments_lexer": "ipython3",
   "version": "3.6.13"
  }
 },
 "nbformat": 4,
 "nbformat_minor": 5
}
