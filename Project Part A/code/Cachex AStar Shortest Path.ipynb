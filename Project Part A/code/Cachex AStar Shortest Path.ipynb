{
 "cells": [
  {
   "cell_type": "markdown",
   "id": "fb7cfc9a-847a-4266-ac2f-b3e86855ff37",
   "metadata": {},
   "source": [
    "# COMP30024 Artificial Intelligence Part A\n",
    "\n",
    "In this first part of the project, you will solve a simple search-based problem on the Cachex game board.\n",
    "Before you read this specification, please make sure you have carefully read the entire ‘Rules for the Game\n",
    "of Cachex’ document. Although you won’t be writing an agent to play the game just yet, you should be\n",
    "aiming to get very familiar with the board layout and corresponding hex coordinate system.\n",
    "\n",
    "The aims for Project Part A are for you and your project partner to\n",
    "- refresh and extend your Python programming skills\n",
    "- explore some of the algorithms you have encountered in lectures, and \n",
    "- become more familiar with the Cachex task environment.\n",
    "\n",
    "This is also a chance for you to develop fundamental Python tools for working with the game: Some of the functions and classes you create now may be helpful later (when you are building your full game-playing program for Part B of the project).\n",
    "\n",
    "To compute this path you are asked to use an A* search and design an **admissible heuristic** to optimise its performance. There are a number of assumptions you should make:\n",
    "1. The start and goal cells will always be unoccupied (but any other cells may be occupied).\n",
    "2. All given cell coordinates will be within the bounds of a board of size n. More precisely, for any given cell coordinate (r, q), 0 ≤ r < n and 0 ≤ q < n. You may also assume n ≥ 1.\n",
    "3. The cost of a path is defined as the number of cells that form a continuous path from the start cell to the goal cell (including these cells).\n",
    "4. If there is a tie, that is, multiple minimal paths of the same cost exist on the same board configuration, any such path is a valid solution.\n",
    "5. There may not always be a valid path from the "
   ]
  },
  {
   "cell_type": "code",
   "execution_count": 25,
   "id": "04dae8dc-d3a9-48b6-b8d3-2b264549a010",
   "metadata": {},
   "outputs": [],
   "source": [
    "# import required libraries\n",
    "import json\n",
    "from math import pow, sqrt, fabs"
   ]
  },
  {
   "cell_type": "code",
   "execution_count": 8,
   "id": "23dbff3b-4815-4579-9491-12cb435a00b9",
   "metadata": {},
   "outputs": [],
   "source": [
    "# obtain board data via open the sample_input.json\n",
    "# this should be read via system args\n",
    "with open('sample_input.json') as json_file:\n",
    "    # read cachex board game data as a const variable\n",
    "    BOARD_DATA = json.load(json_file)"
   ]
  },
  {
   "cell_type": "code",
   "execution_count": 9,
   "id": "b03e2bf2-58a0-45c1-a87c-2656e854648b",
   "metadata": {},
   "outputs": [
    {
     "data": {
      "text/plain": [
       "{'n': 5,\n",
       " 'board': [['b', 1, 0], ['b', 1, 1], ['b', 3, 2], ['b', 1, 3]],\n",
       " 'start': [4, 2],\n",
       " 'goal': [0, 0]}"
      ]
     },
     "execution_count": 9,
     "metadata": {},
     "output_type": "execute_result"
    }
   ],
   "source": [
    "BOARD_DATA"
   ]
  },
  {
   "cell_type": "code",
   "execution_count": 55,
   "id": "46951a14-2252-4df5-86b9-f86035ae33bf",
   "metadata": {},
   "outputs": [],
   "source": [
    "def construct_board(n: int):\n",
    "    \"\"\"\n",
    "    The function will return all valid hexagon cell coordinates in a single\n",
    "    set\n",
    "    input: n: int # number of the board size\n",
    "    return: \n",
    "    \"\"\"\n",
    "    board = set()\n",
    "\n",
    "    # construct cachex board\n",
    "    for r in range(BOARD_DATA['n']):\n",
    "        for q in range(BOARD_DATA['n']):\n",
    "            board.add((r, q))\n",
    "    return board"
   ]
  },
  {
   "cell_type": "code",
   "execution_count": 87,
   "id": "70ac246d-93e9-4656-a9f5-632a1ec97b42",
   "metadata": {},
   "outputs": [],
   "source": [
    "# define the error type\n",
    "class Error(Exception):\n",
    "    \"\"\"\n",
    "    Cachex AStar Path Solver Error\n",
    "    \"\"\"\n",
    "    pass\n",
    "\n",
    "class InvalidHeuristicError(Error):\n",
    "    \"\"\"\n",
    "    Heuristic function must be one of the following distance formula:\n",
    "    ['euclidean', 'manhatten', 'hamming']\n",
    "    \"\"\"\n",
    "    def __init__(self):\n",
    "        self.message = \"Heuristic function must be one of the following distance formula: ['euclidean', 'manhatten', 'hamming']\"\n",
    "        super().__init__(self.message)\n",
    "        \n",
    "class InvalidNodeStateError(Error):\n",
    "    \"\"\"\n",
    "    Node only have four possible state status:\n",
    "    ['Red', 'Blue', 'Block', None]\n",
    "    \"\"\"\n",
    "    \n",
    "    def __init__(self):\n",
    "        self.message = \"Node only have four possible state status: ['Red', 'Blue', 'Block', None]\"\n",
    "        super().__init__(self.message)"
   ]
  },
  {
   "cell_type": "code",
   "execution_count": 88,
   "id": "62598a71-c6cc-44cd-a146-c7431397d2d7",
   "metadata": {},
   "outputs": [],
   "source": [
    "board = construct_board(BOARD_DATA['n'])"
   ]
  },
  {
   "cell_type": "code",
   "execution_count": 129,
   "id": "14fa88d9-4a9c-400a-9d7d-ae9f9081798c",
   "metadata": {},
   "outputs": [],
   "source": [
    "# define the node class\n",
    "class HexNode:\n",
    "    \"\"\"\n",
    "    In Cachex game, each Hexagon cell will be represented with a object HexNode,\n",
    "    where HexNode contains its coordinates, next valid moves, current hexagon cell \n",
    "    status.\n",
    "    input: coords: tuple, move: list, state: string or None\n",
    "    return: class HexNode\n",
    "    \"\"\"\n",
    "    def __init__(self, coords: tuple, state=None):\n",
    "        self.coord = coords\n",
    "        self.next = set()\n",
    "        \n",
    "        if state not in ['Red', 'Blue', 'Block', None]:\n",
    "            raise InvalidNodeStateError\n",
    "        self.state = None # state could be Red, Blue, Block or None\n",
    "        \n",
    "    def distance_diff(self, target, heuristic='manhatten', p=None):\n",
    "        \"\"\"\n",
    "        Calculate the distance between current node and the target hexagon cell using\n",
    "        given heuristic distance function\n",
    "        \n",
    "        heuristic must be one of the following distance formula:\n",
    "        ['euclidean', 'manhatten', 'hamming']\n",
    "        \"\"\"\n",
    "        if heuristic not in ['euclidean', 'manhatten', 'minkowski']:\n",
    "            raise InvalidHeuristicError\n",
    "        \n",
    "        # calculate the distance with the given heuristic distance formula\n",
    "        if heuristic is 'euclidean':\n",
    "            return self.minkowski(self.coord, target, 2)\n",
    "        elif heuristic is 'manhatten':\n",
    "            return self.minkowski(self.coord, target, 1)\n",
    "        elif heuristic is 'minkowski':\n",
    "            return self.minkowski(self.coord, target, p)\n",
    "    \n",
    "    def minkowski(self, point1: tuple, point2: tuple, p:int):\n",
    "        \"\"\"\n",
    "        Calculate the distance use minkowski distance formula where\n",
    "        distance = (sum( abs(point1[0] - point2[0])^p, abs(point1[1] - point2[1])^p ))**(1/p)\n",
    "        \n",
    "        where p = 1, minkowski == manhatten distance\n",
    "        where p = 2, minkowski == euclidean distance\n",
    "        \"\"\"\n",
    "        return pow(pow(abs(point1[0] - point2[0]), p) + pow(abs(point1[1]-point2[1]), p), 1/p)\n",
    "    \n",
    "    def find_next_moves(self, board, inplace=True):\n",
    "        \"\"\"\n",
    "        Through obversation, if turn the Cachex game board from a hexagon 2D layout to a rectangle grid\n",
    "        layout, a node could move in six directions except a node cannot move along the major axis.\n",
    "        \n",
    "        Hence for each point:\n",
    "        1. check all posible moves\n",
    "        2. check moves are vaild (in board)\n",
    "        3. return a result list\n",
    "        \n",
    "        board: set # game board coordinates information to check a move is valid or not\n",
    "        inplace: boolean # could return a set instead changing node attribute value\n",
    "        \"\"\"\n",
    "        \n",
    "        # define the output result\n",
    "        possible_moves = set()\n",
    "        \n",
    "        # generate possible moves\n",
    "        for r in range(self.coord[0]-1, self.coord[0]+2):\n",
    "            for q in range(self.coord[1],  self.coord[0]+2):\n",
    "                if (r, q) in board:\n",
    "                    possible_moves.add((r, q))\n",
    "        \n",
    "        print(possible_moves)\n",
    "        # remove the diagonal elements along the major axis\n",
    "        if (self.coord[0]-1, self.coord[1]-1) in possible_moves:\n",
    "            possible_moves.remove((self.coord[0]-1, self.coord[1]-1))\n",
    "        if (self.coord[0]+1, self.coord[1]+1) in possible_moves:\n",
    "            possible_moves.remove((self.coord[0]+1, self.coord[1]+1))\n",
    "        \n",
    "        # return result\n",
    "        if inplace is True:\n",
    "            self.next = possible_moves\n",
    "            return\n",
    "        return possible_moves"
   ]
  },
  {
   "cell_type": "code",
   "execution_count": 130,
   "id": "405360a9-d17f-4dbc-ac0f-d85c898df1ff",
   "metadata": {},
   "outputs": [],
   "source": [
    "node = HexNode(coords=(1, 1), state=None)"
   ]
  },
  {
   "cell_type": "code",
   "execution_count": 131,
   "id": "270fd51d-e012-4e9c-a78c-f421c30f33d7",
   "metadata": {},
   "outputs": [
    {
     "name": "stdout",
     "output_type": "stream",
     "text": [
      "{(0, 1), (1, 2), (0, 2), (2, 1), (2, 2), (1, 1)}\n"
     ]
    }
   ],
   "source": [
    "node.find_next_moves(board=board)"
   ]
  },
  {
   "cell_type": "code",
   "execution_count": null,
   "id": "db89e866-400f-40be-bd9c-c15cf4fd8302",
   "metadata": {},
   "outputs": [],
   "source": []
  }
 ],
 "metadata": {
  "kernelspec": {
   "display_name": "python3.6",
   "language": "python",
   "name": "python3.6"
  },
  "language_info": {
   "codemirror_mode": {
    "name": "ipython",
    "version": 3
   },
   "file_extension": ".py",
   "mimetype": "text/x-python",
   "name": "python",
   "nbconvert_exporter": "python",
   "pygments_lexer": "ipython3",
   "version": "3.6.13"
  }
 },
 "nbformat": 4,
 "nbformat_minor": 5
}
