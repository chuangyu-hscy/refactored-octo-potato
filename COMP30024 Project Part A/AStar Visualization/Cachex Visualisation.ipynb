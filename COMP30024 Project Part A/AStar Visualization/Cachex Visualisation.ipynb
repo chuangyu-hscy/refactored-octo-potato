{
 "cells": [
  {
   "cell_type": "markdown",
   "id": "04efc28c-613a-404c-bec2-f3d2bf943608",
   "metadata": {},
   "source": [
    "# COMP30024 Artificial Intelligence Part A \n",
    "# A* Shortest Path Visualisation"
   ]
  },
  {
   "cell_type": "code",
   "execution_count": 1,
   "id": "f20db6eb-92e5-4d3a-8dd2-3bf4a08ad776",
   "metadata": {},
   "outputs": [
    {
     "name": "stdout",
     "output_type": "stream",
     "text": [
      "pygame 2.1.2 (SDL 2.0.18, Python 3.6.13)\n",
      "Hello from the pygame community. https://www.pygame.org/contribute.html\n"
     ]
    }
   ],
   "source": [
    "# import required APIs\n",
    "import pygame\n",
    "from math import sin, cos, pi\n",
    "import time"
   ]
  },
  {
   "cell_type": "markdown",
   "id": "92a9accf-7e4e-4df1-a879-022f82f1d481",
   "metadata": {
    "tags": []
   },
   "source": [
    "### Define the Global variables "
   ]
  },
  {
   "cell_type": "code",
   "execution_count": 25,
   "id": "8288f096-ed9e-4287-90d3-ef8979451a96",
   "metadata": {},
   "outputs": [],
   "source": [
    "# pygame refresh rate\n",
    "FPS=60\n",
    "\n",
    "# define global variables\n",
    "WIDTH, HEIGHT = 1000, 1000 # board dimensions\n",
    "BOARD_XY = 5 # board dimensions\n",
    "\n",
    "# define color\n",
    "WHITE = pygame.Color(255, 255, 255)\n",
    "\n",
    "# define barriers\n",
    "BARRIERS = [(1, 0), (1, 1), (1, 3), (3, 2)]\n",
    "\n",
    "# define start point, end point, and path\n",
    "START = (4, 2)\n",
    "END = (0, 0)\n",
    "sample_path = [(4, 2), (4, 1), (3, 1), (2, 1), (1, 2), (0, 2), (0, 1), (0, 0)]"
   ]
  },
  {
   "cell_type": "markdown",
   "id": "7ac9aa06-3b46-4440-aec4-17baa6ca9460",
   "metadata": {
    "tags": []
   },
   "source": [
    "### Define the required functions"
   ]
  },
  {
   "cell_type": "code",
   "execution_count": 26,
   "id": "c075e8dd-09a0-42fe-b41a-b71feee7df57",
   "metadata": {},
   "outputs": [],
   "source": [
    "# construct the board with no coordinates\n",
    "def construct_board(BOARD_XY=5):\n",
    "    board = dict()\n",
    "    multiplier = BOARD_XY // 2\n",
    "    \n",
    "    curr_top_pos = ((WIDTH/2-27.5*multiplier, HEIGHT/2-50*multiplier)) \n",
    "\n",
    "    for x in range(BOARD_XY)[::-1]:\n",
    "        for y in range(BOARD_XY):\n",
    "            if y == 0:\n",
    "                board[(x, y)] = curr_top_pos\n",
    "            else:\n",
    "                board[(x, y)] = (curr_top_pos[0]+55*y, curr_top_pos[1])\n",
    "        curr_top_pos = (curr_top_pos[0]-27.5, curr_top_pos[1]+50)     \n",
    " \n",
    "    return board\n",
    "\n",
    "# check board\n",
    "def display_coords(BOARD):\n",
    "    # print board coordinates and its target pygame hexagon position value\n",
    "    for x in range(BOARD_XY)[::-1]:\n",
    "        for y in range(BOARD_XY):\n",
    "            print(f\"[{(x, y)}: {BOARD[(x, y)]}]\", end=' ')\n",
    "        print('\\n')\n",
    "    return \n",
    "\n",
    "def draw_window(board):\n",
    "    board.fill(WHITE)\n",
    "    pygame.display.update()\n",
    "\n",
    "def draw_regular_polygon(board, color, radius, position, vertex_count=6, width=0):\n",
    "    n, r = vertex_count, radius\n",
    "    x, y = position\n",
    "    pygame.draw.polygon(board, color, [(x + r * sin(2 * pi * i / n),\n",
    "                                          y + r * cos(2 * pi * i / n))\n",
    "                                         for i in range(n)], \n",
    "                        width)\n",
    "    return \n",
    "\n",
    "def draw_board(board, dimension=5):\n",
    "    for x in range(dimension):\n",
    "        for y in range(dimension):\n",
    "            draw_regular_polygon(board=board, \n",
    "                         color=(0, 0, 0), \n",
    "                         radius=min(200,200)/6, \n",
    "                         position=BOARD[(x, y)], \n",
    "                         vertex_count=6, \n",
    "                         width=1)\n",
    "    \n",
    "\n",
    "def draw_barriers(board):\n",
    "    for barrier in BARRIERS:\n",
    "        draw_regular_polygon(board=board, \n",
    "                         color=(66, 135, 245), \n",
    "                         radius=min(180,200)/6, \n",
    "                         position=BOARD[barrier], \n",
    "                         vertex_count=6, \n",
    "                         width=0)\n",
    "\n",
    "def draw_path(board, path=sample_path):\n",
    "    step = 1\n",
    "    pygame.font.init()\n",
    "    font = pygame.font.SysFont('Arial', 20)\n",
    "   \n",
    "    for node in path:\n",
    "        draw_regular_polygon(board=board,\n",
    "                             color=(159, 160, 161),\n",
    "                             radius=min(160,200)/6, \n",
    "                             position=BOARD[node], \n",
    "                             vertex_count=6, \n",
    "                             width=0)\n",
    "        if node == path[0]:\n",
    "            board.blit(font.render('O', True, (255, 111, 0)), (BOARD[node][0]-5, BOARD[node][1]-10))\n",
    "            pygame.display.update()\n",
    "        elif node == path[-1]:\n",
    "            board.blit(font.render('X', True, (255, 179, 0)), (BOARD[node][0]-5, BOARD[node][1]-10))\n",
    "            pygame.display.update()\n",
    "        else:\n",
    "            board.blit(font.render(f'{step}', True, (255, 255, 255)), (BOARD[node][0]-5, BOARD[node][1]-10))\n",
    "            pygame.display.update()\n",
    "            step += 1\n",
    "        "
   ]
  },
  {
   "cell_type": "code",
   "execution_count": 27,
   "id": "7de3c726-a185-4ebb-9c7b-dcd91d8160e6",
   "metadata": {},
   "outputs": [],
   "source": [
    "BOARD = construct_board(BOARD_XY=BOARD_XY)"
   ]
  },
  {
   "cell_type": "code",
   "execution_count": 28,
   "id": "81a098c4-49ad-4fa8-a921-b25658baf7a3",
   "metadata": {},
   "outputs": [
    {
     "name": "stdout",
     "output_type": "stream",
     "text": [
      "[(4, 0): (445.0, 400.0)] [(4, 1): (500.0, 400.0)] [(4, 2): (555.0, 400.0)] [(4, 3): (610.0, 400.0)] [(4, 4): (665.0, 400.0)] \n",
      "\n",
      "[(3, 0): (417.5, 450.0)] [(3, 1): (472.5, 450.0)] [(3, 2): (527.5, 450.0)] [(3, 3): (582.5, 450.0)] [(3, 4): (637.5, 450.0)] \n",
      "\n",
      "[(2, 0): (390.0, 500.0)] [(2, 1): (445.0, 500.0)] [(2, 2): (500.0, 500.0)] [(2, 3): (555.0, 500.0)] [(2, 4): (610.0, 500.0)] \n",
      "\n",
      "[(1, 0): (362.5, 550.0)] [(1, 1): (417.5, 550.0)] [(1, 2): (472.5, 550.0)] [(1, 3): (527.5, 550.0)] [(1, 4): (582.5, 550.0)] \n",
      "\n",
      "[(0, 0): (335.0, 600.0)] [(0, 1): (390.0, 600.0)] [(0, 2): (445.0, 600.0)] [(0, 3): (500.0, 600.0)] [(0, 4): (555.0, 600.0)] \n",
      "\n"
     ]
    }
   ],
   "source": [
    "display_coords(BOARD)"
   ]
  },
  {
   "cell_type": "markdown",
   "id": "5b0bcd07-be4b-4b2b-83ab-2a00177aaa33",
   "metadata": {},
   "source": [
    "### Define the main function"
   ]
  },
  {
   "cell_type": "code",
   "execution_count": 29,
   "id": "b55b38cf-8085-468f-9806-3d2173fce5e4",
   "metadata": {},
   "outputs": [],
   "source": [
    "def main():\n",
    "    # define the main game board\n",
    "    board = pygame.display.set_mode((WIDTH, HEIGHT))\n",
    "    draw_window(board)\n",
    "    \n",
    "    # set board header\n",
    "    pygame.display.set_caption('Cachex Board')\n",
    "    \n",
    "    # define a clock object\n",
    "    clock = pygame.time.Clock()\n",
    "    \n",
    "    draw_board(board, dimension=BOARD_XY)\n",
    " \n",
    "    run = True\n",
    "    while run:\n",
    "        clock.tick(FPS) # board will refresh 60 times per second\n",
    "        for event in pygame.event.get():\n",
    "            if event.type == pygame.QUIT:\n",
    "                run = False\n",
    "        \n",
    "        draw_barriers(board=board)\n",
    "        draw_path(board=board, path=sample_path)\n",
    "        \n",
    "        pygame.display.flip()\n",
    "    pygame.quit()"
   ]
  },
  {
   "cell_type": "code",
   "execution_count": 30,
   "id": "d5400c06-24fd-4643-92f9-9666849ee1dd",
   "metadata": {},
   "outputs": [],
   "source": [
    "main()"
   ]
  },
  {
   "cell_type": "code",
   "execution_count": null,
   "id": "3c605138-c736-4c10-a27a-dea6bb4f3d8f",
   "metadata": {},
   "outputs": [],
   "source": []
  }
 ],
 "metadata": {
  "kernelspec": {
   "display_name": "python3.6",
   "language": "python",
   "name": "python3.6"
  },
  "language_info": {
   "codemirror_mode": {
    "name": "ipython",
    "version": 3
   },
   "file_extension": ".py",
   "mimetype": "text/x-python",
   "name": "python",
   "nbconvert_exporter": "python",
   "pygments_lexer": "ipython3",
   "version": "3.6.13"
  }
 },
 "nbformat": 4,
 "nbformat_minor": 5
}
